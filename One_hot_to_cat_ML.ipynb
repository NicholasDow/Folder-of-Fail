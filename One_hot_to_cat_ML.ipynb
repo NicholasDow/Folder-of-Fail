{
  "nbformat": 4,
  "nbformat_minor": 0,
  "metadata": {
    "colab": {
      "name": "One_hot_to_cat_ML.ipynb",
      "provenance": [],
      "machine_shape": "hm",
      "mount_file_id": "1u48ChhhTbcJIerxOrf485llwZ9cljIvx",
      "authorship_tag": "ABX9TyOfcS3vY853q+Cjzel+/L5T",
      "include_colab_link": true
    },
    "kernelspec": {
      "name": "python3",
      "display_name": "Python 3"
    },
    "accelerator": "GPU"
  },
  "cells": [
    {
      "cell_type": "markdown",
      "metadata": {
        "id": "view-in-github",
        "colab_type": "text"
      },
      "source": [
        "<a href=\"https://colab.research.google.com/github/NicholasDow/Folder-of-Fail/blob/main/One_hot_to_cat_ML.ipynb\" target=\"_parent\"><img src=\"https://colab.research.google.com/assets/colab-badge.svg\" alt=\"Open In Colab\"/></a>"
      ]
    },
    {
      "cell_type": "code",
      "metadata": {
        "id": "mkZaGja2Z_NH"
      },
      "source": [
        "import pandas as pd\r\n",
        "import numpy as np"
      ],
      "execution_count": 1,
      "outputs": []
    },
    {
      "cell_type": "code",
      "metadata": {
        "id": "sKXFz11Aand3"
      },
      "source": [
        "df = pd.read_csv('drive/MyDrive/car-accident-data.csv')"
      ],
      "execution_count": 2,
      "outputs": []
    },
    {
      "cell_type": "code",
      "metadata": {
        "id": "8w-ADqmCa7x4"
      },
      "source": [
        "df['Accident year'] = df['Accident year'].astype(str)"
      ],
      "execution_count": 3,
      "outputs": []
    },
    {
      "cell_type": "code",
      "metadata": {
        "id": "ZrIszfupP0gn"
      },
      "source": [
        "df = df.loc[np.repeat(df.index.values, df[\"Accidents\"])]"
      ],
      "execution_count": 4,
      "outputs": []
    },
    {
      "cell_type": "code",
      "metadata": {
        "id": "TpgoeF-mTqmb"
      },
      "source": [
        "df = df.drop(columns=['Accidents'])"
      ],
      "execution_count": 5,
      "outputs": []
    },
    {
      "cell_type": "code",
      "metadata": {
        "id": "LGVfNmqycT2r"
      },
      "source": [
        "from sklearn.metrics import accuracy_score"
      ],
      "execution_count": 6,
      "outputs": []
    },
    {
      "cell_type": "code",
      "metadata": {
        "id": "YbnH4mDncW1R"
      },
      "source": [
        "import sklearn"
      ],
      "execution_count": 7,
      "outputs": []
    },
    {
      "cell_type": "code",
      "metadata": {
        "id": "otncokrwP9Tt"
      },
      "source": [
        "from sklearn.model_selection import train_test_split"
      ],
      "execution_count": 8,
      "outputs": []
    },
    {
      "cell_type": "code",
      "metadata": {
        "colab": {
          "base_uri": "https://localhost:8080/"
        },
        "id": "HeXhN3tIAwx0",
        "outputId": "ca838c27-94f8-4429-cb26-dc0a254e2370"
      },
      "source": [
        "# Getting rid of the unknown \r\n",
        "# print(\"shape before\", df.shape)\r\n",
        "# df = df.mask(df.eq('Unknown')).dropna()\r\n",
        "# print(\"shape after\", df.shape)"
      ],
      "execution_count": null,
      "outputs": [
        {
          "output_type": "stream",
          "text": [
            "shape before (240091, 8)\n",
            "shape after (232240, 8)\n"
          ],
          "name": "stdout"
        }
      ]
    },
    {
      "cell_type": "code",
      "metadata": {
        "colab": {
          "base_uri": "https://localhost:8080/",
          "height": 419
        },
        "id": "cl2HOIFl2UKX",
        "outputId": "d8ee8363-21f1-4c36-bb2c-9faf333ebd92"
      },
      "source": [
        "df"
      ],
      "execution_count": 9,
      "outputs": [
        {
          "output_type": "execute_result",
          "data": {
            "text/html": [
              "<div>\n",
              "<style scoped>\n",
              "    .dataframe tbody tr th:only-of-type {\n",
              "        vertical-align: middle;\n",
              "    }\n",
              "\n",
              "    .dataframe tbody tr th {\n",
              "        vertical-align: top;\n",
              "    }\n",
              "\n",
              "    .dataframe thead th {\n",
              "        text-align: right;\n",
              "    }\n",
              "</style>\n",
              "<table border=\"1\" class=\"dataframe\">\n",
              "  <thead>\n",
              "    <tr style=\"text-align: right;\">\n",
              "      <th></th>\n",
              "      <th>Accident year</th>\n",
              "      <th>Accident severity</th>\n",
              "      <th>Region</th>\n",
              "      <th>Ons code</th>\n",
              "      <th>Speed limit</th>\n",
              "      <th>Light condition</th>\n",
              "      <th>Weather condition</th>\n",
              "      <th>Road surface</th>\n",
              "    </tr>\n",
              "  </thead>\n",
              "  <tbody>\n",
              "    <tr>\n",
              "      <th>0</th>\n",
              "      <td>2018</td>\n",
              "      <td>Fatal</td>\n",
              "      <td>North East</td>\n",
              "      <td>E12000001</td>\n",
              "      <td>1-20 mph</td>\n",
              "      <td>Daylight</td>\n",
              "      <td>Fine no high winds</td>\n",
              "      <td>Dry</td>\n",
              "    </tr>\n",
              "    <tr>\n",
              "      <th>1</th>\n",
              "      <td>2018</td>\n",
              "      <td>Fatal</td>\n",
              "      <td>North East</td>\n",
              "      <td>E12000001</td>\n",
              "      <td>21-30 mph</td>\n",
              "      <td>Daylight</td>\n",
              "      <td>Fine no high winds</td>\n",
              "      <td>Dry</td>\n",
              "    </tr>\n",
              "    <tr>\n",
              "      <th>1</th>\n",
              "      <td>2018</td>\n",
              "      <td>Fatal</td>\n",
              "      <td>North East</td>\n",
              "      <td>E12000001</td>\n",
              "      <td>21-30 mph</td>\n",
              "      <td>Daylight</td>\n",
              "      <td>Fine no high winds</td>\n",
              "      <td>Dry</td>\n",
              "    </tr>\n",
              "    <tr>\n",
              "      <th>1</th>\n",
              "      <td>2018</td>\n",
              "      <td>Fatal</td>\n",
              "      <td>North East</td>\n",
              "      <td>E12000001</td>\n",
              "      <td>21-30 mph</td>\n",
              "      <td>Daylight</td>\n",
              "      <td>Fine no high winds</td>\n",
              "      <td>Dry</td>\n",
              "    </tr>\n",
              "    <tr>\n",
              "      <th>1</th>\n",
              "      <td>2018</td>\n",
              "      <td>Fatal</td>\n",
              "      <td>North East</td>\n",
              "      <td>E12000001</td>\n",
              "      <td>21-30 mph</td>\n",
              "      <td>Daylight</td>\n",
              "      <td>Fine no high winds</td>\n",
              "      <td>Dry</td>\n",
              "    </tr>\n",
              "    <tr>\n",
              "      <th>...</th>\n",
              "      <td>...</td>\n",
              "      <td>...</td>\n",
              "      <td>...</td>\n",
              "      <td>...</td>\n",
              "      <td>...</td>\n",
              "      <td>...</td>\n",
              "      <td>...</td>\n",
              "      <td>...</td>\n",
              "    </tr>\n",
              "    <tr>\n",
              "      <th>10254</th>\n",
              "      <td>2019</td>\n",
              "      <td>Slight</td>\n",
              "      <td>Scotland</td>\n",
              "      <td>S92000003</td>\n",
              "      <td>Motorway</td>\n",
              "      <td>Darkness - no lighting</td>\n",
              "      <td>Raining no high winds</td>\n",
              "      <td>Wet or damp</td>\n",
              "    </tr>\n",
              "    <tr>\n",
              "      <th>10254</th>\n",
              "      <td>2019</td>\n",
              "      <td>Slight</td>\n",
              "      <td>Scotland</td>\n",
              "      <td>S92000003</td>\n",
              "      <td>Motorway</td>\n",
              "      <td>Darkness - no lighting</td>\n",
              "      <td>Raining no high winds</td>\n",
              "      <td>Wet or damp</td>\n",
              "    </tr>\n",
              "    <tr>\n",
              "      <th>10255</th>\n",
              "      <td>2019</td>\n",
              "      <td>Slight</td>\n",
              "      <td>Scotland</td>\n",
              "      <td>S92000003</td>\n",
              "      <td>Motorway</td>\n",
              "      <td>Darkness - no lighting</td>\n",
              "      <td>Raining + high winds</td>\n",
              "      <td>Wet or damp</td>\n",
              "    </tr>\n",
              "    <tr>\n",
              "      <th>10255</th>\n",
              "      <td>2019</td>\n",
              "      <td>Slight</td>\n",
              "      <td>Scotland</td>\n",
              "      <td>S92000003</td>\n",
              "      <td>Motorway</td>\n",
              "      <td>Darkness - no lighting</td>\n",
              "      <td>Raining + high winds</td>\n",
              "      <td>Wet or damp</td>\n",
              "    </tr>\n",
              "    <tr>\n",
              "      <th>10256</th>\n",
              "      <td>2019</td>\n",
              "      <td>Slight</td>\n",
              "      <td>Scotland</td>\n",
              "      <td>S92000003</td>\n",
              "      <td>Motorway</td>\n",
              "      <td>Darkness - lighting unknown</td>\n",
              "      <td>Fine no high winds</td>\n",
              "      <td>Dry</td>\n",
              "    </tr>\n",
              "  </tbody>\n",
              "</table>\n",
              "<p>240091 rows × 8 columns</p>\n",
              "</div>"
            ],
            "text/plain": [
              "      Accident year Accident severity  ...      Weather condition Road surface\n",
              "0              2018             Fatal  ...     Fine no high winds          Dry\n",
              "1              2018             Fatal  ...     Fine no high winds          Dry\n",
              "1              2018             Fatal  ...     Fine no high winds          Dry\n",
              "1              2018             Fatal  ...     Fine no high winds          Dry\n",
              "1              2018             Fatal  ...     Fine no high winds          Dry\n",
              "...             ...               ...  ...                    ...          ...\n",
              "10254          2019            Slight  ...  Raining no high winds  Wet or damp\n",
              "10254          2019            Slight  ...  Raining no high winds  Wet or damp\n",
              "10255          2019            Slight  ...   Raining + high winds  Wet or damp\n",
              "10255          2019            Slight  ...   Raining + high winds  Wet or damp\n",
              "10256          2019            Slight  ...     Fine no high winds          Dry\n",
              "\n",
              "[240091 rows x 8 columns]"
            ]
          },
          "metadata": {
            "tags": []
          },
          "execution_count": 9
        }
      ]
    },
    {
      "cell_type": "code",
      "metadata": {
        "id": "rMcm3emH2LEx"
      },
      "source": [
        "# This didn't work either\r\n",
        "#df['Speed limit'] = df['Speed limit'].replace({\"1-20 mph\": 10, \"21-30 mph\": 25, \"31-40 mph\": 35, \"41-50 mph\": 45, \"51-60 mph\":55, \"61-70 mph\": 65, \"Motorway\": 80})"
      ],
      "execution_count": null,
      "outputs": []
    },
    {
      "cell_type": "code",
      "metadata": {
        "id": "kjj9E6FgAdB3"
      },
      "source": [
        "X = df.drop(columns=['Accident severity'])\r\n",
        "y = df['Accident severity']"
      ],
      "execution_count": 10,
      "outputs": []
    },
    {
      "cell_type": "code",
      "metadata": {
        "id": "DadjjDcRAbft"
      },
      "source": [
        "X_train, X_valid, y_train, y_valid = train_test_split(X, y, stratify=y, train_size=0.6, random_state=1)"
      ],
      "execution_count": 11,
      "outputs": []
    },
    {
      "cell_type": "code",
      "metadata": {
        "id": "a3fvsxR7y4SI"
      },
      "source": [
        "cats = list(X.columns)"
      ],
      "execution_count": 12,
      "outputs": []
    },
    {
      "cell_type": "code",
      "metadata": {
        "colab": {
          "base_uri": "https://localhost:8080/"
        },
        "id": "Z73bTePJ59-k",
        "outputId": "2b1555f6-7df3-47d9-ff4e-e56d86cd39f5"
      },
      "source": [
        "cats"
      ],
      "execution_count": 13,
      "outputs": [
        {
          "output_type": "execute_result",
          "data": {
            "text/plain": [
              "['Accident year',\n",
              " 'Region',\n",
              " 'Ons code',\n",
              " 'Speed limit',\n",
              " 'Light condition',\n",
              " 'Weather condition',\n",
              " 'Road surface']"
            ]
          },
          "metadata": {
            "tags": []
          },
          "execution_count": 13
        }
      ]
    },
    {
      "cell_type": "code",
      "metadata": {
        "id": "L2BzpCtszSH9"
      },
      "source": [
        "from sklearn.pipeline import make_pipeline\r\n",
        "from sklearn.preprocessing import StandardScaler, OneHotEncoder\r\n",
        "from sklearn.impute import SimpleImputer\r\n",
        "from sklearn.compose import make_column_transformer"
      ],
      "execution_count": 14,
      "outputs": []
    },
    {
      "cell_type": "code",
      "metadata": {
        "id": "gLkmtj1Odp-n"
      },
      "source": [
        "transformer_num = make_pipeline(\r\n",
        "    StandardScaler(),\r\n",
        ")\r\n",
        "transformer_cat = make_pipeline(\r\n",
        "    OneHotEncoder(handle_unknown='ignore'),\r\n",
        ")\r\n",
        "\r\n",
        "preprocessor = make_column_transformer(\r\n",
        "    (transformer_cat, cats),\r\n",
        ")"
      ],
      "execution_count": 15,
      "outputs": []
    },
    {
      "cell_type": "code",
      "metadata": {
        "colab": {
          "base_uri": "https://localhost:8080/"
        },
        "id": "pyh_lqpmDMRf",
        "outputId": "2f0e7cb9-14a1-4610-ef9e-a37bdef0dfcb"
      },
      "source": [
        "from sklearn.utils import resample\r\n",
        "X = pd.concat([X_train, y_train], axis=1)\r\n",
        "slight = X[X['Accident severity'] == 'Slight']\r\n",
        "fatal = X[X['Accident severity'] == 'Fatal']\r\n",
        "serious = X[X['Accident severity'] == 'Serious']\r\n",
        "n = len(slight)\r\n",
        "fatal_upsample = resample(fatal, replace = True, n_samples= n, random_state=0)\r\n",
        "serious_upsample = resample(serious, replace= True, n_samples=n, random_state=0)\r\n",
        "upsampled = pd.concat([slight, fatal_upsample, serious_upsample])\r\n",
        "print(upsampled)\r\n",
        "X_train = upsampled.drop(columns=['Accident severity'])\r\n",
        "y_train = upsampled['Accident severity']"
      ],
      "execution_count": 16,
      "outputs": [
        {
          "output_type": "stream",
          "text": [
            "      Accident year                    Region  ...  Road surface Accident severity\n",
            "7910           2019  Yorkshire and the Humber  ...           Dry            Slight\n",
            "7641           2019                North West  ...           Dry            Slight\n",
            "9982           2019                     Wales  ...   Wet or damp            Slight\n",
            "9889           2019                     Wales  ...           Dry            Slight\n",
            "10090          2019                  Scotland  ...  Frost or ice            Slight\n",
            "...             ...                       ...  ...           ...               ...\n",
            "7046           2019                South West  ...           Dry           Serious\n",
            "7181           2019                     Wales  ...   Wet or damp           Serious\n",
            "6034           2019  Yorkshire and the Humber  ...           Dry           Serious\n",
            "6877           2019                    London  ...           Dry           Serious\n",
            "2006           2018                  Scotland  ...           Dry           Serious\n",
            "\n",
            "[342324 rows x 8 columns]\n"
          ],
          "name": "stdout"
        }
      ]
    },
    {
      "cell_type": "code",
      "metadata": {
        "id": "0hJnS0gCzX5g"
      },
      "source": [
        "from sklearn.ensemble import RandomForestClassifier\r\n",
        "\r\n",
        "model = RandomForestClassifier(n_estimators=100, random_state=0)"
      ],
      "execution_count": null,
      "outputs": []
    },
    {
      "cell_type": "code",
      "metadata": {
        "id": "h3E0gnfPd0I_"
      },
      "source": [
        "# I want to see the cardinality here"
      ],
      "execution_count": null,
      "outputs": []
    },
    {
      "cell_type": "code",
      "metadata": {
        "id": "Uc_iUoz6d8hL"
      },
      "source": [
        "from sklearn.metrics import accuracy_score\r\n",
        "\r\n",
        "# Bundle preprocessing and modeling code in a pipeline, (don't use this anymore)\r\n",
        "my_pipeline = Pipeline(steps=[('preprocessor', preprocessor),\r\n",
        "                              ('model', model)\r\n",
        "                             ])\r\n",
        "\r\n"
      ],
      "execution_count": null,
      "outputs": []
    },
    {
      "cell_type": "code",
      "metadata": {
        "colab": {
          "base_uri": "https://localhost:8080/",
          "height": 231
        },
        "id": "tWL1U5g3B3ES",
        "outputId": "77517ec8-5f18-4204-ed1d-e6414a526dd9"
      },
      "source": [
        "\r\n",
        "my_pipeline.fit(X_train, y_train)\r\n",
        "\r\n",
        "preds = my_pipeline.predict(X_valid)\r\n",
        "\r\n",
        "\r\n",
        "# Evaluate the model\r\n",
        "score = accuracy_score(y_valid, preds)\r\n",
        "print('accuracy:', score)\r\n",
        "print('f1', sklearn.metrics.f1_score(y_valid, preds, average='micro'))"
      ],
      "execution_count": null,
      "outputs": [
        {
          "output_type": "error",
          "ename": "NameError",
          "evalue": "ignored",
          "traceback": [
            "\u001b[0;31m---------------------------------------------------------------------------\u001b[0m",
            "\u001b[0;31mNameError\u001b[0m                                 Traceback (most recent call last)",
            "\u001b[0;32m<ipython-input-40-5497cce9f838>\u001b[0m in \u001b[0;36m<module>\u001b[0;34m()\u001b[0m\n\u001b[1;32m      1\u001b[0m \u001b[0;34m\u001b[0m\u001b[0m\n\u001b[0;32m----> 2\u001b[0;31m \u001b[0mmy_pipeline\u001b[0m\u001b[0;34m.\u001b[0m\u001b[0mfit\u001b[0m\u001b[0;34m(\u001b[0m\u001b[0mX_train\u001b[0m\u001b[0;34m,\u001b[0m \u001b[0my_train\u001b[0m\u001b[0;34m)\u001b[0m\u001b[0;34m\u001b[0m\u001b[0;34m\u001b[0m\u001b[0m\n\u001b[0m\u001b[1;32m      3\u001b[0m \u001b[0;34m\u001b[0m\u001b[0m\n\u001b[1;32m      4\u001b[0m \u001b[0mpreds\u001b[0m \u001b[0;34m=\u001b[0m \u001b[0mmy_pipeline\u001b[0m\u001b[0;34m.\u001b[0m\u001b[0mpredict\u001b[0m\u001b[0;34m(\u001b[0m\u001b[0mX_valid\u001b[0m\u001b[0;34m)\u001b[0m\u001b[0;34m\u001b[0m\u001b[0;34m\u001b[0m\u001b[0m\n\u001b[1;32m      5\u001b[0m \u001b[0;34m\u001b[0m\u001b[0m\n",
            "\u001b[0;31mNameError\u001b[0m: name 'my_pipeline' is not defined"
          ]
        }
      ]
    },
    {
      "cell_type": "code",
      "metadata": {
        "colab": {
          "base_uri": "https://localhost:8080/"
        },
        "id": "roZ_yDYByIpk",
        "outputId": "bc5c1fce-8b6f-4e32-a2a1-0f0018f73a29"
      },
      "source": [
        "print('f1', sklearn.metrics.f1_score(y_valid, preds, average='macro'))"
      ],
      "execution_count": null,
      "outputs": [
        {
          "output_type": "stream",
          "text": [
            "f1 0.3157956746566892\n"
          ],
          "name": "stdout"
        }
      ]
    },
    {
      "cell_type": "code",
      "metadata": {
        "id": "PbvhajWOeVNK",
        "colab": {
          "base_uri": "https://localhost:8080/"
        },
        "outputId": "f5b28287-be16-4781-b7f7-b261a6e0a4e5"
      },
      "source": [
        "score = accuracy_score(y_valid, preds)\r\n",
        "print('accuracy:', score)\r\n",
        "print('f1', sklearn.metrics.f1_score(y_valid, preds, average='micro'))"
      ],
      "execution_count": null,
      "outputs": [
        {
          "output_type": "stream",
          "text": [
            "accuracy: 0.4996147358337325\n",
            "f1 0.4996147358337325\n"
          ],
          "name": "stdout"
        }
      ]
    },
    {
      "cell_type": "code",
      "metadata": {
        "id": "y669sVJSlIn6"
      },
      "source": [
        "from sklearn.metrics import confusion_matrix"
      ],
      "execution_count": null,
      "outputs": []
    },
    {
      "cell_type": "code",
      "metadata": {
        "colab": {
          "base_uri": "https://localhost:8080/"
        },
        "id": "sbb8eVC1Y2Ek",
        "outputId": "98f1d567-dcc7-4dbd-a7f1-9b223d4e4b8a"
      },
      "source": [
        "confusion_matrix(y_valid, preds)"
      ],
      "execution_count": null,
      "outputs": [
        {
          "output_type": "execute_result",
          "data": {
            "text/plain": [
              "array([[  348,   135,   185],\n",
              "       [ 2860,  2143,  4351],\n",
              "       [ 8688,  7809, 21500]])"
            ]
          },
          "metadata": {
            "tags": []
          },
          "execution_count": 22
        }
      ]
    },
    {
      "cell_type": "code",
      "metadata": {
        "id": "AiDj9LO-ujKh",
        "colab": {
          "base_uri": "https://localhost:8080/"
        },
        "outputId": "c1301b24-0de4-4244-ef03-d48fbdffe18f"
      },
      "source": [
        "np.unique(preds)"
      ],
      "execution_count": null,
      "outputs": [
        {
          "output_type": "execute_result",
          "data": {
            "text/plain": [
              "array(['Fatal', 'Serious', 'Slight'], dtype=object)"
            ]
          },
          "metadata": {
            "tags": []
          },
          "execution_count": 23
        }
      ]
    },
    {
      "cell_type": "code",
      "metadata": {
        "id": "3xzF0rPlyvTk"
      },
      "source": [
        "# OH my god I am retarded, trying isolation forest this time"
      ],
      "execution_count": null,
      "outputs": []
    },
    {
      "cell_type": "markdown",
      "metadata": {
        "id": "3WhfGrI52FHI"
      },
      "source": [
        "I don't know if a NN will work but I think it is a good experience to try this method too"
      ]
    },
    {
      "cell_type": "code",
      "metadata": {
        "id": "Go6gXH81kOYb"
      },
      "source": [
        "from tensorflow.keras import layers\r\n",
        "# This basically allows you to modify columns based on their feature\r\n",
        "from tensorflow import feature_column\r\n",
        "import tensorflow as tf\r\n",
        "feature_columns = []"
      ],
      "execution_count": 17,
      "outputs": []
    },
    {
      "cell_type": "code",
      "metadata": {
        "colab": {
          "base_uri": "https://localhost:8080/",
          "height": 419
        },
        "id": "Kt3m7WUIKzqJ",
        "outputId": "fb9ef11b-9eef-4ef9-b288-b24b7e72bb7b"
      },
      "source": [
        "X_train"
      ],
      "execution_count": 18,
      "outputs": [
        {
          "output_type": "execute_result",
          "data": {
            "text/html": [
              "<div>\n",
              "<style scoped>\n",
              "    .dataframe tbody tr th:only-of-type {\n",
              "        vertical-align: middle;\n",
              "    }\n",
              "\n",
              "    .dataframe tbody tr th {\n",
              "        vertical-align: top;\n",
              "    }\n",
              "\n",
              "    .dataframe thead th {\n",
              "        text-align: right;\n",
              "    }\n",
              "</style>\n",
              "<table border=\"1\" class=\"dataframe\">\n",
              "  <thead>\n",
              "    <tr style=\"text-align: right;\">\n",
              "      <th></th>\n",
              "      <th>Accident year</th>\n",
              "      <th>Region</th>\n",
              "      <th>Ons code</th>\n",
              "      <th>Speed limit</th>\n",
              "      <th>Light condition</th>\n",
              "      <th>Weather condition</th>\n",
              "      <th>Road surface</th>\n",
              "    </tr>\n",
              "  </thead>\n",
              "  <tbody>\n",
              "    <tr>\n",
              "      <th>7910</th>\n",
              "      <td>2019</td>\n",
              "      <td>Yorkshire and the Humber</td>\n",
              "      <td>E12000003</td>\n",
              "      <td>21-30 mph</td>\n",
              "      <td>Daylight</td>\n",
              "      <td>Fine no high winds</td>\n",
              "      <td>Dry</td>\n",
              "    </tr>\n",
              "    <tr>\n",
              "      <th>7641</th>\n",
              "      <td>2019</td>\n",
              "      <td>North West</td>\n",
              "      <td>E12000002</td>\n",
              "      <td>21-30 mph</td>\n",
              "      <td>Darkness - lights lit</td>\n",
              "      <td>Fine no high winds</td>\n",
              "      <td>Dry</td>\n",
              "    </tr>\n",
              "    <tr>\n",
              "      <th>9982</th>\n",
              "      <td>2019</td>\n",
              "      <td>Wales</td>\n",
              "      <td>W92000004</td>\n",
              "      <td>51-60 mph</td>\n",
              "      <td>Darkness - no lighting</td>\n",
              "      <td>Fine no high winds</td>\n",
              "      <td>Wet or damp</td>\n",
              "    </tr>\n",
              "    <tr>\n",
              "      <th>9889</th>\n",
              "      <td>2019</td>\n",
              "      <td>Wales</td>\n",
              "      <td>W92000004</td>\n",
              "      <td>21-30 mph</td>\n",
              "      <td>Darkness - lights lit</td>\n",
              "      <td>Fine no high winds</td>\n",
              "      <td>Dry</td>\n",
              "    </tr>\n",
              "    <tr>\n",
              "      <th>10090</th>\n",
              "      <td>2019</td>\n",
              "      <td>Scotland</td>\n",
              "      <td>S92000003</td>\n",
              "      <td>21-30 mph</td>\n",
              "      <td>Darkness - lights lit</td>\n",
              "      <td>Fine no high winds</td>\n",
              "      <td>Frost or ice</td>\n",
              "    </tr>\n",
              "    <tr>\n",
              "      <th>...</th>\n",
              "      <td>...</td>\n",
              "      <td>...</td>\n",
              "      <td>...</td>\n",
              "      <td>...</td>\n",
              "      <td>...</td>\n",
              "      <td>...</td>\n",
              "      <td>...</td>\n",
              "    </tr>\n",
              "    <tr>\n",
              "      <th>7046</th>\n",
              "      <td>2019</td>\n",
              "      <td>South West</td>\n",
              "      <td>E12000009</td>\n",
              "      <td>41-50 mph</td>\n",
              "      <td>Daylight</td>\n",
              "      <td>Fine no high winds</td>\n",
              "      <td>Dry</td>\n",
              "    </tr>\n",
              "    <tr>\n",
              "      <th>7181</th>\n",
              "      <td>2019</td>\n",
              "      <td>Wales</td>\n",
              "      <td>W92000004</td>\n",
              "      <td>51-60 mph</td>\n",
              "      <td>Daylight</td>\n",
              "      <td>Raining no high winds</td>\n",
              "      <td>Wet or damp</td>\n",
              "    </tr>\n",
              "    <tr>\n",
              "      <th>6034</th>\n",
              "      <td>2019</td>\n",
              "      <td>Yorkshire and the Humber</td>\n",
              "      <td>E12000003</td>\n",
              "      <td>21-30 mph</td>\n",
              "      <td>Daylight</td>\n",
              "      <td>Unknown</td>\n",
              "      <td>Dry</td>\n",
              "    </tr>\n",
              "    <tr>\n",
              "      <th>6877</th>\n",
              "      <td>2019</td>\n",
              "      <td>London</td>\n",
              "      <td>E12000007</td>\n",
              "      <td>21-30 mph</td>\n",
              "      <td>Daylight</td>\n",
              "      <td>Fine no high winds</td>\n",
              "      <td>Dry</td>\n",
              "    </tr>\n",
              "    <tr>\n",
              "      <th>2006</th>\n",
              "      <td>2018</td>\n",
              "      <td>Scotland</td>\n",
              "      <td>S92000003</td>\n",
              "      <td>21-30 mph</td>\n",
              "      <td>Daylight</td>\n",
              "      <td>Fine no high winds</td>\n",
              "      <td>Dry</td>\n",
              "    </tr>\n",
              "  </tbody>\n",
              "</table>\n",
              "<p>342324 rows × 7 columns</p>\n",
              "</div>"
            ],
            "text/plain": [
              "      Accident year  ...  Road surface\n",
              "7910           2019  ...           Dry\n",
              "7641           2019  ...           Dry\n",
              "9982           2019  ...   Wet or damp\n",
              "9889           2019  ...           Dry\n",
              "10090          2019  ...  Frost or ice\n",
              "...             ...  ...           ...\n",
              "7046           2019  ...           Dry\n",
              "7181           2019  ...   Wet or damp\n",
              "6034           2019  ...           Dry\n",
              "6877           2019  ...           Dry\n",
              "2006           2018  ...           Dry\n",
              "\n",
              "[342324 rows x 7 columns]"
            ]
          },
          "metadata": {
            "tags": []
          },
          "execution_count": 18
        }
      ]
    },
    {
      "cell_type": "code",
      "metadata": {
        "id": "THNJ3XAk7PsC"
      },
      "source": [
        "# We just apply the pipeline here\r\n",
        "X_train = preprocessor.fit_transform(X_train)\r\n",
        "X_valid = preprocessor.transform(X_valid)\r\n",
        "input_shape = [X_train.shape[1]]"
      ],
      "execution_count": 18,
      "outputs": []
    },
    {
      "cell_type": "code",
      "metadata": {
        "id": "bvUw3y98N_xX"
      },
      "source": [
        ""
      ],
      "execution_count": 18,
      "outputs": []
    },
    {
      "cell_type": "code",
      "metadata": {
        "id": "CmVjAZGa7SZN"
      },
      "source": [
        "model = tf.keras.Sequential([\r\n",
        "  layers.Dense(64, activation='relu', input_shape = input_shape),\r\n",
        "  layers.Dropout(0.3),\r\n",
        "  layers.BatchNormalization(),\r\n",
        "  layers.Dense(128, activation='relu'),\r\n",
        "  layers.Dropout(0.3),\r\n",
        "  layers.BatchNormalization(),\r\n",
        "  layers.Dense(256, activation='relu'),\r\n",
        "  layers.Dropout(0.3),\r\n",
        "  layers.BatchNormalization(),\r\n",
        "  layers.Dense(3, activation='softmax')\r\n",
        "])\r\n",
        "\r\n",
        "model.compile(optimizer='adam',\r\n",
        "              loss='categorical_crossentropy',\r\n",
        "              metrics=['accuracy'])\r\n",
        "\r\n"
      ],
      "execution_count": 19,
      "outputs": []
    },
    {
      "cell_type": "code",
      "metadata": {
        "id": "TFGAhnXBGj8p"
      },
      "source": [
        "from keras.utils import to_categorical\r\n",
        "import keras"
      ],
      "execution_count": 20,
      "outputs": []
    },
    {
      "cell_type": "code",
      "metadata": {
        "id": "G8F286BEWaBl"
      },
      "source": [
        "from sklearn.preprocessing import LabelEncoder"
      ],
      "execution_count": 21,
      "outputs": []
    },
    {
      "cell_type": "code",
      "metadata": {
        "colab": {
          "base_uri": "https://localhost:8080/"
        },
        "id": "ZE1XlkgjXyKq",
        "outputId": "16db875b-3ff2-4262-9253-1ce8bd3801c3"
      },
      "source": [
        "# Note that you need to remeber what a label encoder is, it really fucked you over to have forgotten it.\r\n",
        "\r\n",
        "to_categorical(LabelEncoder().fit_transform(y_train))"
      ],
      "execution_count": 23,
      "outputs": [
        {
          "output_type": "execute_result",
          "data": {
            "text/plain": [
              "array([[0., 0., 1.],\n",
              "       [0., 0., 1.],\n",
              "       [0., 0., 1.],\n",
              "       ...,\n",
              "       [0., 1., 0.],\n",
              "       [0., 1., 0.],\n",
              "       [0., 1., 0.]], dtype=float32)"
            ]
          },
          "metadata": {
            "tags": []
          },
          "execution_count": 23
        }
      ]
    },
    {
      "cell_type": "code",
      "metadata": {
        "colab": {
          "base_uri": "https://localhost:8080/"
        },
        "id": "53_HxfHgGmMd",
        "outputId": "8c2afe0f-7bd1-427d-ec3e-1d192888bd0d"
      },
      "source": [
        "y_train = to_categorical(LabelEncoder().fit_transform(y_train))\r\n",
        "y_valid = to_categorical(LabelEncoder().fit_transform(y_valid))\r\n",
        "print(y_train[0])\r\n"
      ],
      "execution_count": 22,
      "outputs": [
        {
          "output_type": "stream",
          "text": [
            "[0. 0. 1.]\n"
          ],
          "name": "stdout"
        }
      ]
    },
    {
      "cell_type": "code",
      "metadata": {
        "id": "2LGdwTKrOwqx"
      },
      "source": [
        "# y_train[0][:,1]\r\n",
        "# # Oh this an annoy bug, will have to ask if there is a better way later\r\n",
        "# y_train= [ i[:,1] for i in y_train ]\r\n",
        "# y_valid= [ i[:,1] for i in y_valid ]"
      ],
      "execution_count": 25,
      "outputs": []
    },
    {
      "cell_type": "code",
      "metadata": {
        "id": "ZTCnbRgET3ki"
      },
      "source": [
        "# y_train = np.stack(y_train)\r\n",
        "# y_valid = np.stack(y_valid)"
      ],
      "execution_count": 26,
      "outputs": []
    },
    {
      "cell_type": "code",
      "metadata": {
        "colab": {
          "base_uri": "https://localhost:8080/"
        },
        "id": "jWShW9mwCO2n",
        "outputId": "024aa53b-69e5-4196-dc38-ac8cd1d0b4fb"
      },
      "source": [
        "early_stopping = keras.callbacks.EarlyStopping(\r\n",
        "    patience=25,\r\n",
        "    min_delta=0.1,\r\n",
        "    restore_best_weights=True,\r\n",
        ")\r\n",
        "history = model.fit(\r\n",
        "    X_train, y_train,\r\n",
        "    validation_data=(X_valid, y_valid),\r\n",
        "    batch_size=1600,\r\n",
        "    epochs=200,\r\n",
        "    callbacks=[early_stopping],\r\n",
        ")\r\n",
        "\r\n",
        "history_df = pd.DataFrame(history.history)"
      ],
      "execution_count": 25,
      "outputs": [
        {
          "output_type": "stream",
          "text": [
            "Epoch 1/200\n",
            "214/214 [==============================] - 3s 11ms/step - loss: 1.0313 - accuracy: 0.4577 - val_loss: 1.0058 - val_accuracy: 0.5183\n",
            "Epoch 2/200\n",
            "214/214 [==============================] - 3s 11ms/step - loss: 1.0214 - accuracy: 0.4662 - val_loss: 1.0073 - val_accuracy: 0.5324\n",
            "Epoch 3/200\n",
            "214/214 [==============================] - 3s 11ms/step - loss: 1.0158 - accuracy: 0.4704 - val_loss: 0.9947 - val_accuracy: 0.5014\n",
            "Epoch 4/200\n",
            "214/214 [==============================] - 3s 11ms/step - loss: 1.0114 - accuracy: 0.4738 - val_loss: 1.0160 - val_accuracy: 0.4974\n",
            "Epoch 5/200\n",
            "214/214 [==============================] - 3s 11ms/step - loss: 1.0076 - accuracy: 0.4757 - val_loss: 1.0076 - val_accuracy: 0.5200\n",
            "Epoch 6/200\n",
            "214/214 [==============================] - 3s 12ms/step - loss: 1.0048 - accuracy: 0.4786 - val_loss: 1.0045 - val_accuracy: 0.5167\n",
            "Epoch 7/200\n",
            "214/214 [==============================] - 3s 12ms/step - loss: 1.0003 - accuracy: 0.4810 - val_loss: 1.0146 - val_accuracy: 0.5085\n",
            "Epoch 8/200\n",
            "214/214 [==============================] - 3s 11ms/step - loss: 0.9975 - accuracy: 0.4829 - val_loss: 1.0064 - val_accuracy: 0.5024\n",
            "Epoch 9/200\n",
            "214/214 [==============================] - 3s 11ms/step - loss: 0.9935 - accuracy: 0.4852 - val_loss: 1.0057 - val_accuracy: 0.5230\n",
            "Epoch 10/200\n",
            "214/214 [==============================] - 3s 12ms/step - loss: 0.9924 - accuracy: 0.4854 - val_loss: 1.0100 - val_accuracy: 0.4886\n",
            "Epoch 11/200\n",
            "214/214 [==============================] - 3s 11ms/step - loss: 0.9896 - accuracy: 0.4876 - val_loss: 0.9931 - val_accuracy: 0.5381\n",
            "Epoch 12/200\n",
            "214/214 [==============================] - 3s 12ms/step - loss: 0.9865 - accuracy: 0.4899 - val_loss: 1.0105 - val_accuracy: 0.5129\n",
            "Epoch 13/200\n",
            "214/214 [==============================] - 3s 11ms/step - loss: 0.9851 - accuracy: 0.4898 - val_loss: 1.0039 - val_accuracy: 0.4898\n",
            "Epoch 14/200\n",
            "214/214 [==============================] - 3s 12ms/step - loss: 0.9824 - accuracy: 0.4906 - val_loss: 1.0082 - val_accuracy: 0.4778\n",
            "Epoch 15/200\n",
            "214/214 [==============================] - 3s 11ms/step - loss: 0.9818 - accuracy: 0.4912 - val_loss: 1.0071 - val_accuracy: 0.4792\n",
            "Epoch 16/200\n",
            "214/214 [==============================] - 3s 12ms/step - loss: 0.9794 - accuracy: 0.4931 - val_loss: 1.0104 - val_accuracy: 0.4794\n",
            "Epoch 17/200\n",
            "214/214 [==============================] - 3s 11ms/step - loss: 0.9787 - accuracy: 0.4932 - val_loss: 1.0140 - val_accuracy: 0.4835\n",
            "Epoch 18/200\n",
            "214/214 [==============================] - 3s 11ms/step - loss: 0.9779 - accuracy: 0.4937 - val_loss: 0.9927 - val_accuracy: 0.5081\n",
            "Epoch 19/200\n",
            "214/214 [==============================] - 3s 11ms/step - loss: 0.9764 - accuracy: 0.4952 - val_loss: 1.0262 - val_accuracy: 0.4550\n",
            "Epoch 20/200\n",
            "214/214 [==============================] - 3s 12ms/step - loss: 0.9748 - accuracy: 0.4958 - val_loss: 1.0100 - val_accuracy: 0.4940\n",
            "Epoch 21/200\n",
            "214/214 [==============================] - 3s 11ms/step - loss: 0.9748 - accuracy: 0.4946 - val_loss: 0.9942 - val_accuracy: 0.5260\n",
            "Epoch 22/200\n",
            "214/214 [==============================] - 3s 11ms/step - loss: 0.9733 - accuracy: 0.4957 - val_loss: 0.9928 - val_accuracy: 0.5057\n",
            "Epoch 23/200\n",
            "214/214 [==============================] - 3s 11ms/step - loss: 0.9724 - accuracy: 0.4968 - val_loss: 1.0019 - val_accuracy: 0.5048\n",
            "Epoch 24/200\n",
            "214/214 [==============================] - 3s 12ms/step - loss: 0.9723 - accuracy: 0.4974 - val_loss: 0.9908 - val_accuracy: 0.5111\n",
            "Epoch 25/200\n",
            "214/214 [==============================] - 3s 13ms/step - loss: 0.9705 - accuracy: 0.4978 - val_loss: 0.9860 - val_accuracy: 0.5085\n",
            "Epoch 26/200\n",
            "214/214 [==============================] - 3s 11ms/step - loss: 0.9706 - accuracy: 0.4972 - val_loss: 0.9804 - val_accuracy: 0.5424\n"
          ],
          "name": "stdout"
        }
      ]
    },
    {
      "cell_type": "code",
      "metadata": {
        "colab": {
          "base_uri": "https://localhost:8080/",
          "height": 298
        },
        "id": "wOva47vrht5n",
        "outputId": "012faf15-569e-425e-c039-e28a91125f74"
      },
      "source": [
        "history_df.loc[:, ['loss', 'val_loss']].plot(title=\"Cross-entropy\")\r\n",
        "\r\n"
      ],
      "execution_count": 26,
      "outputs": [
        {
          "output_type": "execute_result",
          "data": {
            "text/plain": [
              "<matplotlib.axes._subplots.AxesSubplot at 0x7f784592b1d0>"
            ]
          },
          "metadata": {
            "tags": []
          },
          "execution_count": 26
        },
        {
          "output_type": "display_data",
          "data": {
            "image/png": "[encoded data removed]",
            "text/plain": [
              "<Figure size 432x288 with 1 Axes>"
            ]
          },
          "metadata": {
            "tags": [],
            "needs_background": "light"
          }
        }
      ]
    },
    {
      "cell_type": "code",
      "metadata": {
        "colab": {
          "base_uri": "https://localhost:8080/",
          "height": 298
        },
        "id": "_TxiLot1HVbw",
        "outputId": "ac7fdc5e-f562-4bb7-9313-5b72e70707fb"
      },
      "source": [
        "history_df.loc[:, ['accuracy', 'val_accuracy']].plot(title=\"Accuracy\")\r\n"
      ],
      "execution_count": 27,
      "outputs": [
        {
          "output_type": "execute_result",
          "data": {
            "text/plain": [
              "<matplotlib.axes._subplots.AxesSubplot at 0x7f78458f7390>"
            ]
          },
          "metadata": {
            "tags": []
          },
          "execution_count": 27
        },
        {
          "output_type": "display_data",
          "data": {
            "image/png": "[encoded data removed]",
            "text/plain": [
              "<Figure size 432x288 with 1 Axes>"
            ]
          },
          "metadata": {
            "tags": [],
            "needs_background": "light"
          }
        }
      ]
    },
    {
      "cell_type": "code",
      "metadata": {
        "id": "9BdibHbDhnG1",
        "colab": {
          "base_uri": "https://localhost:8080/",
          "height": 306
        },
        "outputId": "cc8d37fb-ac9b-404f-f5a1-1d89ce40cfc0"
      },
      "source": [
        "model(X_valid[:5])"
      ],
      "execution_count": null,
      "outputs": [
        {
          "output_type": "error",
          "ename": "AttributeError",
          "evalue": "ignored",
          "traceback": [
            "\u001b[0;31m---------------------------------------------------------------------------\u001b[0m",
            "\u001b[0;31mAttributeError\u001b[0m                            Traceback (most recent call last)",
            "\u001b[0;32m<ipython-input-51-465e8580a057>\u001b[0m in \u001b[0;36m<module>\u001b[0;34m()\u001b[0m\n\u001b[0;32m----> 1\u001b[0;31m \u001b[0mmodel\u001b[0m\u001b[0;34m(\u001b[0m\u001b[0mX_valid\u001b[0m\u001b[0;34m[\u001b[0m\u001b[0;34m:\u001b[0m\u001b[0;36m5\u001b[0m\u001b[0;34m]\u001b[0m\u001b[0;34m)\u001b[0m\u001b[0;34m\u001b[0m\u001b[0;34m\u001b[0m\u001b[0m\n\u001b[0m",
            "\u001b[0;32m/usr/local/lib/python3.6/dist-packages/tensorflow/python/keras/engine/base_layer.py\u001b[0m in \u001b[0;36m__call__\u001b[0;34m(self, *args, **kwargs)\u001b[0m\n\u001b[1;32m    996\u001b[0m         \u001b[0minputs\u001b[0m \u001b[0;34m=\u001b[0m \u001b[0mself\u001b[0m\u001b[0;34m.\u001b[0m\u001b[0m_maybe_cast_inputs\u001b[0m\u001b[0;34m(\u001b[0m\u001b[0minputs\u001b[0m\u001b[0;34m,\u001b[0m \u001b[0minput_list\u001b[0m\u001b[0;34m)\u001b[0m\u001b[0;34m\u001b[0m\u001b[0;34m\u001b[0m\u001b[0m\n\u001b[1;32m    997\u001b[0m \u001b[0;34m\u001b[0m\u001b[0m\n\u001b[0;32m--> 998\u001b[0;31m       \u001b[0minput_spec\u001b[0m\u001b[0;34m.\u001b[0m\u001b[0massert_input_compatibility\u001b[0m\u001b[0;34m(\u001b[0m\u001b[0mself\u001b[0m\u001b[0;34m.\u001b[0m\u001b[0minput_spec\u001b[0m\u001b[0;34m,\u001b[0m \u001b[0minputs\u001b[0m\u001b[0;34m,\u001b[0m \u001b[0mself\u001b[0m\u001b[0;34m.\u001b[0m\u001b[0mname\u001b[0m\u001b[0;34m)\u001b[0m\u001b[0;34m\u001b[0m\u001b[0;34m\u001b[0m\u001b[0m\n\u001b[0m\u001b[1;32m    999\u001b[0m       \u001b[0;32mif\u001b[0m \u001b[0meager\u001b[0m\u001b[0;34m:\u001b[0m\u001b[0;34m\u001b[0m\u001b[0;34m\u001b[0m\u001b[0m\n\u001b[1;32m   1000\u001b[0m         \u001b[0mcall_fn\u001b[0m \u001b[0;34m=\u001b[0m \u001b[0mself\u001b[0m\u001b[0;34m.\u001b[0m\u001b[0mcall\u001b[0m\u001b[0;34m\u001b[0m\u001b[0;34m\u001b[0m\u001b[0m\n",
            "\u001b[0;32m/usr/local/lib/python3.6/dist-packages/tensorflow/python/keras/engine/input_spec.py\u001b[0m in \u001b[0;36massert_input_compatibility\u001b[0;34m(input_spec, inputs, layer_name)\u001b[0m\n\u001b[1;32m    230\u001b[0m                          ', found ndim=' + str(ndim))\n\u001b[1;32m    231\u001b[0m     \u001b[0;32mif\u001b[0m \u001b[0mspec\u001b[0m\u001b[0;34m.\u001b[0m\u001b[0mmin_ndim\u001b[0m \u001b[0;32mis\u001b[0m \u001b[0;32mnot\u001b[0m \u001b[0;32mNone\u001b[0m\u001b[0;34m:\u001b[0m\u001b[0;34m\u001b[0m\u001b[0;34m\u001b[0m\u001b[0m\n\u001b[0;32m--> 232\u001b[0;31m       \u001b[0mndim\u001b[0m \u001b[0;34m=\u001b[0m \u001b[0mx\u001b[0m\u001b[0;34m.\u001b[0m\u001b[0mshape\u001b[0m\u001b[0;34m.\u001b[0m\u001b[0mrank\u001b[0m\u001b[0;34m\u001b[0m\u001b[0;34m\u001b[0m\u001b[0m\n\u001b[0m\u001b[1;32m    233\u001b[0m       \u001b[0;32mif\u001b[0m \u001b[0mndim\u001b[0m \u001b[0;32mis\u001b[0m \u001b[0;32mnot\u001b[0m \u001b[0;32mNone\u001b[0m \u001b[0;32mand\u001b[0m \u001b[0mndim\u001b[0m \u001b[0;34m<\u001b[0m \u001b[0mspec\u001b[0m\u001b[0;34m.\u001b[0m\u001b[0mmin_ndim\u001b[0m\u001b[0;34m:\u001b[0m\u001b[0;34m\u001b[0m\u001b[0;34m\u001b[0m\u001b[0m\n\u001b[1;32m    234\u001b[0m         raise ValueError('Input ' + str(input_index) + ' of layer ' +\n",
            "\u001b[0;31mAttributeError\u001b[0m: 'tuple' object has no attribute 'rank'"
          ]
        }
      ]
    },
    {
      "cell_type": "code",
      "metadata": {
        "colab": {
          "base_uri": "https://localhost:8080/",
          "height": 163
        },
        "id": "JHmS1Zu0OGRf",
        "outputId": "6796127b-371b-45ae-8b9c-8760e9ba896e"
      },
      "source": [
        "y_valid.count()"
      ],
      "execution_count": null,
      "outputs": [
        {
          "output_type": "error",
          "ename": "AttributeError",
          "evalue": "ignored",
          "traceback": [
            "\u001b[0;31m---------------------------------------------------------------------------\u001b[0m",
            "\u001b[0;31mAttributeError\u001b[0m                            Traceback (most recent call last)",
            "\u001b[0;32m<ipython-input-52-8993fa0623c1>\u001b[0m in \u001b[0;36m<module>\u001b[0;34m()\u001b[0m\n\u001b[0;32m----> 1\u001b[0;31m \u001b[0my_valid\u001b[0m\u001b[0;34m.\u001b[0m\u001b[0mcount\u001b[0m\u001b[0;34m(\u001b[0m\u001b[0;34m)\u001b[0m\u001b[0;34m\u001b[0m\u001b[0;34m\u001b[0m\u001b[0m\n\u001b[0m",
            "\u001b[0;31mAttributeError\u001b[0m: 'numpy.ndarray' object has no attribute 'count'"
          ]
        }
      ]
    },
    {
      "cell_type": "code",
      "metadata": {
        "colab": {
          "base_uri": "https://localhost:8080/"
        },
        "id": "BfF5WCibhJes",
        "outputId": "3189a5d7-0bd5-41ab-a23f-3972704485dd"
      },
      "source": [
        "df['Accident severity'].value_counts()"
      ],
      "execution_count": null,
      "outputs": [
        {
          "output_type": "execute_result",
          "data": {
            "text/plain": [
              "Slight     183368\n",
              "Serious     45601\n",
              "Fatal        3271\n",
              "Name: Accident severity, dtype: int64"
            ]
          },
          "metadata": {
            "tags": []
          },
          "execution_count": 53
        }
      ]
    },
    {
      "cell_type": "code",
      "metadata": {
        "id": "2ioO8W9KleCl"
      },
      "source": [
        ""
      ],
      "execution_count": null,
      "outputs": []
    }
  ]
}